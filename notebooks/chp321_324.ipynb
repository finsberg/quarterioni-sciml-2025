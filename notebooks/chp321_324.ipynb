{
 "cells": [
  {
   "cell_type": "markdown",
   "id": "2e88ee07-0e7f-4461-9230-05584c10468c",
   "metadata": {},
   "source": [
    "# "
   ]
  },
  {
   "cell_type": "markdown",
   "id": "71cfbb6a-15e2-4c96-a933-6b29395111e1",
   "metadata": {},
   "source": [
    "# Quarterioni - SciML: Chapter 3.2.1-3.2.4"
   ]
  },
  {
   "cell_type": "code",
   "execution_count": 9,
   "id": "605bd884-b7ee-4ada-a7a3-dd128679b80e",
   "metadata": {},
   "outputs": [
    {
     "name": "stdout",
     "output_type": "stream",
     "text": [
      "Requirement already satisfied: numpy in ./venv/lib/python3.11/site-packages (2.2.3)\n",
      "Requirement already satisfied: matplotlib in ./venv/lib/python3.11/site-packages (3.10.1)\n",
      "Requirement already satisfied: polars in ./venv/lib/python3.11/site-packages (1.24.0)\n",
      "Requirement already satisfied: scipy in ./venv/lib/python3.11/site-packages (1.15.2)\n",
      "Collecting scikit-learn\n",
      "  Downloading scikit_learn-1.6.1-cp311-cp311-macosx_12_0_arm64.whl (11.1 MB)\n",
      "\u001b[2K     \u001b[38;2;114;156;31m━━━━━━━━━━━━━━━━━━━━━━━━━━━━━━━━━━━━━━━━\u001b[0m \u001b[32m11.1/11.1 MB\u001b[0m \u001b[31m55.5 MB/s\u001b[0m eta \u001b[36m0:00:00\u001b[0m31m54.3 MB/s\u001b[0m eta \u001b[36m0:00:01\u001b[0m\n",
      "\u001b[?25hRequirement already satisfied: contourpy>=1.0.1 in ./venv/lib/python3.11/site-packages (from matplotlib) (1.3.1)\n",
      "Requirement already satisfied: cycler>=0.10 in ./venv/lib/python3.11/site-packages (from matplotlib) (0.12.1)\n",
      "Requirement already satisfied: fonttools>=4.22.0 in ./venv/lib/python3.11/site-packages (from matplotlib) (4.56.0)\n",
      "Requirement already satisfied: kiwisolver>=1.3.1 in ./venv/lib/python3.11/site-packages (from matplotlib) (1.4.8)\n",
      "Requirement already satisfied: packaging>=20.0 in ./venv/lib/python3.11/site-packages (from matplotlib) (24.2)\n",
      "Requirement already satisfied: pillow>=8 in ./venv/lib/python3.11/site-packages (from matplotlib) (11.1.0)\n",
      "Requirement already satisfied: pyparsing>=2.3.1 in ./venv/lib/python3.11/site-packages (from matplotlib) (3.2.1)\n",
      "Requirement already satisfied: python-dateutil>=2.7 in ./venv/lib/python3.11/site-packages (from matplotlib) (2.9.0.post0)\n",
      "Collecting joblib>=1.2.0 (from scikit-learn)\n",
      "  Using cached joblib-1.4.2-py3-none-any.whl (301 kB)\n",
      "Collecting threadpoolctl>=3.1.0 (from scikit-learn)\n",
      "  Using cached threadpoolctl-3.5.0-py3-none-any.whl (18 kB)\n",
      "Requirement already satisfied: six>=1.5 in ./venv/lib/python3.11/site-packages (from python-dateutil>=2.7->matplotlib) (1.17.0)\n",
      "Installing collected packages: threadpoolctl, joblib, scikit-learn\n",
      "Successfully installed joblib-1.4.2 scikit-learn-1.6.1 threadpoolctl-3.5.0\n",
      "\n",
      "\u001b[1m[\u001b[0m\u001b[34;49mnotice\u001b[0m\u001b[1;39;49m]\u001b[0m\u001b[39;49m A new release of pip is available: \u001b[0m\u001b[31;49m23.1.2\u001b[0m\u001b[39;49m -> \u001b[0m\u001b[32;49m25.0.1\u001b[0m\n",
      "\u001b[1m[\u001b[0m\u001b[34;49mnotice\u001b[0m\u001b[1;39;49m]\u001b[0m\u001b[39;49m To update, run: \u001b[0m\u001b[32;49mpython3 -m pip install --upgrade pip\u001b[0m\n",
      "Note: you may need to restart the kernel to use updated packages.\n"
     ]
    }
   ],
   "source": [
    "%pip install numpy matplotlib polars scipy scikit-learn"
   ]
  },
  {
   "cell_type": "markdown",
   "id": "82821f75-d50c-448b-818c-52ca1bf69185",
   "metadata": {},
   "source": [
    "## Least square regression"
   ]
  },
  {
   "cell_type": "code",
   "execution_count": 79,
   "id": "0ab75f66-f8ad-443f-b19c-67575aacf058",
   "metadata": {},
   "outputs": [],
   "source": [
    "import matplotlib.pyplot as plt\n",
    "import numpy as np\n",
    "import scipy.linalg\n",
    "import polars as pl"
   ]
  },
  {
   "cell_type": "markdown",
   "id": "333a6f8c-47ae-4e62-aa26-cd826b33a95d",
   "metadata": {},
   "source": [
    "### Experience (E)"
   ]
  },
  {
   "cell_type": "code",
   "execution_count": 8,
   "id": "2c85ff7e-4050-4597-854b-d189aa9bfbbb",
   "metadata": {},
   "outputs": [
    {
     "data": {
      "text/html": [
       "<div><style>\n",
       ".dataframe > thead > tr,\n",
       ".dataframe > tbody > tr {\n",
       "  text-align: right;\n",
       "  white-space: pre-wrap;\n",
       "}\n",
       "</style>\n",
       "<small>shape: (128, 8)</small><table border=\"1\" class=\"dataframe\"><thead><tr><th>Home</th><th>Price</th><th>SqFt</th><th>Bedrooms</th><th>Bathrooms</th><th>Offers</th><th>Brick</th><th>Neighborhood</th></tr><tr><td>i64</td><td>i64</td><td>i64</td><td>i64</td><td>i64</td><td>i64</td><td>str</td><td>str</td></tr></thead><tbody><tr><td>1</td><td>114300</td><td>1790</td><td>2</td><td>2</td><td>2</td><td>&quot;No&quot;</td><td>&quot;East&quot;</td></tr><tr><td>2</td><td>114200</td><td>2030</td><td>4</td><td>2</td><td>3</td><td>&quot;No&quot;</td><td>&quot;East&quot;</td></tr><tr><td>3</td><td>114800</td><td>1740</td><td>3</td><td>2</td><td>1</td><td>&quot;No&quot;</td><td>&quot;East&quot;</td></tr><tr><td>4</td><td>94700</td><td>1980</td><td>3</td><td>2</td><td>3</td><td>&quot;No&quot;</td><td>&quot;East&quot;</td></tr><tr><td>5</td><td>119800</td><td>2130</td><td>3</td><td>3</td><td>3</td><td>&quot;No&quot;</td><td>&quot;East&quot;</td></tr><tr><td>&hellip;</td><td>&hellip;</td><td>&hellip;</td><td>&hellip;</td><td>&hellip;</td><td>&hellip;</td><td>&hellip;</td><td>&hellip;</td></tr><tr><td>124</td><td>119700</td><td>1900</td><td>3</td><td>3</td><td>3</td><td>&quot;Yes&quot;</td><td>&quot;East&quot;</td></tr><tr><td>125</td><td>147900</td><td>2160</td><td>4</td><td>3</td><td>3</td><td>&quot;Yes&quot;</td><td>&quot;East&quot;</td></tr><tr><td>126</td><td>113500</td><td>2070</td><td>2</td><td>2</td><td>2</td><td>&quot;No&quot;</td><td>&quot;North&quot;</td></tr><tr><td>127</td><td>149900</td><td>2020</td><td>3</td><td>3</td><td>1</td><td>&quot;No&quot;</td><td>&quot;West&quot;</td></tr><tr><td>128</td><td>124600</td><td>2250</td><td>3</td><td>3</td><td>4</td><td>&quot;No&quot;</td><td>&quot;North&quot;</td></tr></tbody></table></div>"
      ],
      "text/plain": [
       "shape: (128, 8)\n",
       "┌──────┬────────┬──────┬──────────┬───────────┬────────┬───────┬──────────────┐\n",
       "│ Home ┆ Price  ┆ SqFt ┆ Bedrooms ┆ Bathrooms ┆ Offers ┆ Brick ┆ Neighborhood │\n",
       "│ ---  ┆ ---    ┆ ---  ┆ ---      ┆ ---       ┆ ---    ┆ ---   ┆ ---          │\n",
       "│ i64  ┆ i64    ┆ i64  ┆ i64      ┆ i64       ┆ i64    ┆ str   ┆ str          │\n",
       "╞══════╪════════╪══════╪══════════╪═══════════╪════════╪═══════╪══════════════╡\n",
       "│ 1    ┆ 114300 ┆ 1790 ┆ 2        ┆ 2         ┆ 2      ┆ No    ┆ East         │\n",
       "│ 2    ┆ 114200 ┆ 2030 ┆ 4        ┆ 2         ┆ 3      ┆ No    ┆ East         │\n",
       "│ 3    ┆ 114800 ┆ 1740 ┆ 3        ┆ 2         ┆ 1      ┆ No    ┆ East         │\n",
       "│ 4    ┆ 94700  ┆ 1980 ┆ 3        ┆ 2         ┆ 3      ┆ No    ┆ East         │\n",
       "│ 5    ┆ 119800 ┆ 2130 ┆ 3        ┆ 3         ┆ 3      ┆ No    ┆ East         │\n",
       "│ …    ┆ …      ┆ …    ┆ …        ┆ …         ┆ …      ┆ …     ┆ …            │\n",
       "│ 124  ┆ 119700 ┆ 1900 ┆ 3        ┆ 3         ┆ 3      ┆ Yes   ┆ East         │\n",
       "│ 125  ┆ 147900 ┆ 2160 ┆ 4        ┆ 3         ┆ 3      ┆ Yes   ┆ East         │\n",
       "│ 126  ┆ 113500 ┆ 2070 ┆ 2        ┆ 2         ┆ 2      ┆ No    ┆ North        │\n",
       "│ 127  ┆ 149900 ┆ 2020 ┆ 3        ┆ 3         ┆ 1      ┆ No    ┆ West         │\n",
       "│ 128  ┆ 124600 ┆ 2250 ┆ 3        ┆ 3         ┆ 4      ┆ No    ┆ North        │\n",
       "└──────┴────────┴──────┴──────────┴───────────┴────────┴───────┴──────────────┘"
      ]
     },
     "execution_count": 8,
     "metadata": {},
     "output_type": "execute_result"
    }
   ],
   "source": [
    "df = pl.read_csv(\"https://raw.githubusercontent.com/ywchiu/riii/refs/heads/master/data/house-prices.csv\")\n",
    "df"
   ]
  },
  {
   "cell_type": "code",
   "execution_count": 67,
   "id": "d67ff844-d828-49d1-b0ef-682057c2aa6b",
   "metadata": {},
   "outputs": [],
   "source": [
    "# x_labels = [\"SqFt\", \"Bedrooms\", \"Bathrooms\"]\n",
    "x_labels = [\"SqFt\"]\n",
    "y_label = \"Price\""
   ]
  },
  {
   "cell_type": "markdown",
   "id": "5c04879a-77db-41ff-a024-5243f23e3779",
   "metadata": {},
   "source": [
    "### Candidate model"
   ]
  },
  {
   "cell_type": "code",
   "execution_count": 93,
   "id": "41fc7cc1-3068-4a5b-8817-b968d5daabb1",
   "metadata": {},
   "outputs": [],
   "source": [
    "f = lambda x: m * x + q"
   ]
  },
  {
   "cell_type": "markdown",
   "id": "bfa5b4d9-ab29-4935-97ff-ab38192977c0",
   "metadata": {},
   "source": [
    "### Training (least square)"
   ]
  },
  {
   "cell_type": "code",
   "execution_count": 72,
   "id": "3a8d9308-a98b-442f-bdc6-9aec537d405d",
   "metadata": {},
   "outputs": [],
   "source": [
    "x2_sum = df.select(pl.col(*x_labels).pow(2).sum()).to_numpy()[0]\n",
    "x_sum = df.select(pl.col(*x_labels).sum()).to_numpy()[0]\n",
    "x_y_sum = df.select((pl.col(*x_labels) * pl.col(y_label)).sum()).to_numpy()[0]\n",
    "y_sum = df.select(pl.col(y_label).sum()).to_numpy()[0]\n",
    "N = [len(df)]"
   ]
  },
  {
   "cell_type": "code",
   "execution_count": 80,
   "id": "397c63be-a0d1-4044-a6b7-ac2196a563f7",
   "metadata": {},
   "outputs": [
    {
     "name": "stdout",
     "output_type": "stream",
     "text": [
      "[[518165000    256120]\n",
      " [   256120       128]] [33804280000    16694700]\n"
     ]
    }
   ],
   "source": [
    "A = np.array([np.hstack([x2_sum, x_sum]), np.hstack([x_sum, N])])\n",
    "b = np.hstack([x_y_sum, y_sum])\n",
    "print(A, b)"
   ]
  },
  {
   "cell_type": "code",
   "execution_count": 85,
   "id": "2ce1b2ca-8b2d-41a8-9cb7-f18a21a99966",
   "metadata": {},
   "outputs": [],
   "source": [
    "m, q = scipy.linalg.solve(A, b)"
   ]
  },
  {
   "cell_type": "markdown",
   "id": "30e34cde-b88f-4e81-80ad-8f34a512b4b9",
   "metadata": {},
   "source": [
    "### Measure performance"
   ]
  },
  {
   "cell_type": "code",
   "execution_count": 95,
   "id": "390d08eb-9f67-463e-86f7-ab255c8524bb",
   "metadata": {},
   "outputs": [],
   "source": [
    "x = df[x_labels].to_numpy()\n",
    "y_pred = f(x)\n",
    "y = df[y_label].to_numpy()"
   ]
  },
  {
   "cell_type": "code",
   "execution_count": 96,
   "id": "6586d898-246e-443f-b85d-68203c9c4e10",
   "metadata": {},
   "outputs": [
    {
     "data": {
      "image/png": "[encoded data removed]",
      "text/plain": [
       "<Figure size 640x480 with 1 Axes>"
      ]
     },
     "metadata": {},
     "output_type": "display_data"
    }
   ],
   "source": [
    "fig, ax = plt.subplots()\n",
    "ax.scatter(x, y_pred)\n",
    "ax.scatter(x, y)\n",
    "plt.show()"
   ]
  },
  {
   "cell_type": "code",
   "execution_count": 98,
   "id": "9c7db49c-b5d4-4fa1-a32e-0d5aef742fa1",
   "metadata": {},
   "outputs": [
    {
     "name": "stdout",
     "output_type": "stream",
     "text": [
      "119721577351.51236\n"
     ]
    }
   ],
   "source": [
    "MSE = ((y - y_pred)**2).sum() / len(y)\n",
    "print(MSE)"
   ]
  },
  {
   "cell_type": "code",
   "execution_count": 100,
   "id": "2626cbe4-80ef-4a03-bc1f-acea2bd08ba0",
   "metadata": {},
   "outputs": [
    {
     "name": "stdout",
     "output_type": "stream",
     "text": [
      "346008.0596626506\n"
     ]
    }
   ],
   "source": [
    "RMSE = np.sqrt(MSE)\n",
    "print(RMSE)"
   ]
  },
  {
   "cell_type": "markdown",
   "id": "716e60eb-0cb0-4b7c-8a6c-a494cbfde450",
   "metadata": {},
   "source": [
    "## Machine learning models\n",
    "\n",
    "We assume there is a releation between the input and output data.\n",
    "\n",
    "$$\n",
    "f : x \\mapsto y\n",
    "$$\n",
    "\n",
    "We need a rich enough hypothesis space.\n",
    "\n",
    "\n",
    "What are wrong with e.g polynomials or fourier series (which we know are dense in $C(\\Omega)$)?\n",
    "\n",
    "1D: \n",
    "\n",
    "$$\n",
    "f(x_1) = a_0 + a_1x_1 + a_2x_1^2 + \\cdots\n",
    "$$\n",
    "\n",
    "2D (same degree polynomial):\n",
    "\n",
    "\n",
    "$$\n",
    "f(x_1, x_2) = a_{00} + a_{10}x_1 + a_{01}x_2 + a_{20}x_1^2 + a_{02}x_2^2   + a_{11}x_1x_2 + \\cdots\n",
    "$$\n",
    "\n",
    "\n",
    "Number of parmameters of a degree $n$ polynomial with $k$ variables is\n",
    "\n",
    "$$\n",
    "\\binom{k + n}{n}\n",
    "$$"
   ]
  },
  {
   "cell_type": "code",
   "execution_count": 104,
   "id": "ae8c4e92-e879-41d7-ba0c-130d0da35593",
   "metadata": {},
   "outputs": [
    {
     "data": {
      "text/plain": [
       "np.float64(5.0)"
      ]
     },
     "execution_count": 104,
     "metadata": {},
     "output_type": "execute_result"
    }
   ],
   "source": [
    "k = 2\n",
    "n = 2\n",
    "scipy.special.binom(k + n, n) - 1"
   ]
  },
  {
   "cell_type": "code",
   "execution_count": 103,
   "id": "c7bec43a-c465-40cb-8855-97ce4e151c9e",
   "metadata": {},
   "outputs": [
    {
     "data": {
      "text/plain": [
       "np.float64(9.054851465611432e+58)"
      ]
     },
     "execution_count": 103,
     "metadata": {},
     "output_type": "execute_result"
    }
   ],
   "source": [
    "k = 100\n",
    "n = 100\n",
    "scipy.special.binom(k + n, n) - 1"
   ]
  },
  {
   "cell_type": "markdown",
   "id": "4d19cafa-00da-4bdb-8477-7b052c99341a",
   "metadata": {},
   "source": [
    "For neural networks we also have the [universal approximation theorem](https://www.deep-mind.org/2023/03/26/the-universal-approximation-theorem/#Universal_Approximation_Theorem).\n",
    "For NN we can get away with fewer parameters"
   ]
  },
  {
   "cell_type": "code",
   "execution_count": null,
   "id": "bfde24f9-c314-4e72-9aa1-5eed01a52a59",
   "metadata": {},
   "outputs": [],
   "source": []
  }
 ],
 "metadata": {
  "kernelspec": {
   "display_name": "Python 3 (ipykernel)",
   "language": "python",
   "name": "python3"
  },
  "language_info": {
   "codemirror_mode": {
    "name": "ipython",
    "version": 3
   },
   "file_extension": ".py",
   "mimetype": "text/x-python",
   "name": "python",
   "nbconvert_exporter": "python",
   "pygments_lexer": "ipython3",
   "version": "3.11.4"
  }
 },
 "nbformat": 4,
 "nbformat_minor": 5
}
