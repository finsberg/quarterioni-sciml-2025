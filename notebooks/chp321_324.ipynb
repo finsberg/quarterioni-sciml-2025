{
 "cells": [
  {
   "cell_type": "markdown",
   "id": "0",
   "metadata": {},
   "source": [
    "# "
   ]
  },
  {
   "cell_type": "markdown",
   "id": "1",
   "metadata": {},
   "source": [
    "# Quarterioni - SciML: Chapter 3.2.1-3.2.4"
   ]
  },
  {
   "cell_type": "code",
   "execution_count": null,
   "id": "2",
   "metadata": {},
   "outputs": [],
   "source": [
    "%pip install numpy matplotlib polars scipy scikit-learn"
   ]
  },
  {
   "cell_type": "markdown",
   "id": "3",
   "metadata": {},
   "source": [
    "## Least square regression"
   ]
  },
  {
   "cell_type": "code",
   "execution_count": null,
   "id": "4",
   "metadata": {},
   "outputs": [],
   "source": [
    "import matplotlib.pyplot as plt\n",
    "import numpy as np\n",
    "import scipy.linalg\n",
    "import polars as pl"
   ]
  },
  {
   "cell_type": "markdown",
   "id": "5",
   "metadata": {},
   "source": [
    "### Experience (E)"
   ]
  },
  {
   "cell_type": "code",
   "execution_count": null,
   "id": "6",
   "metadata": {},
   "outputs": [],
   "source": [
    "try:\n",
    "    import pyodide_http\n",
    "\n",
    "    pyodide_http.patch_all()\n",
    "except ImportError:\n",
    "    pass\n",
    "df = pl.read_csv(\n",
    "    \"https://raw.githubusercontent.com/ywchiu/riii/refs/heads/master/data/house-prices.csv\"\n",
    ")\n",
    "df"
   ]
  },
  {
   "cell_type": "code",
   "execution_count": null,
   "id": "7",
   "metadata": {},
   "outputs": [],
   "source": [
    "# x_labels = [\"SqFt\", \"Bedrooms\", \"Bathrooms\"]\n",
    "x_labels = [\"SqFt\"]\n",
    "y_label = \"Price\""
   ]
  },
  {
   "cell_type": "markdown",
   "id": "8",
   "metadata": {},
   "source": [
    "### Candidate model"
   ]
  },
  {
   "cell_type": "code",
   "execution_count": null,
   "id": "9",
   "metadata": {},
   "outputs": [],
   "source": [
    "def f(x):\n",
    "    return m * x + q"
   ]
  },
  {
   "cell_type": "markdown",
   "id": "10",
   "metadata": {},
   "source": [
    "### Training (least square)"
   ]
  },
  {
   "cell_type": "code",
   "execution_count": null,
   "id": "11",
   "metadata": {},
   "outputs": [],
   "source": [
    "x2_sum = df.select(pl.col(*x_labels).pow(2).sum()).to_numpy()[0]\n",
    "x_sum = df.select(pl.col(*x_labels).sum()).to_numpy()[0]\n",
    "x_y_sum = df.select((pl.col(*x_labels) * pl.col(y_label)).sum()).to_numpy()[0]\n",
    "y_sum = df.select(pl.col(y_label).sum()).to_numpy()[0]\n",
    "N = [len(df)]"
   ]
  },
  {
   "cell_type": "code",
   "execution_count": null,
   "id": "12",
   "metadata": {},
   "outputs": [],
   "source": [
    "A = np.array([np.hstack([x2_sum, x_sum]), np.hstack([x_sum, N])])\n",
    "b = np.hstack([x_y_sum, y_sum])\n",
    "print(A, b)"
   ]
  },
  {
   "cell_type": "code",
   "execution_count": null,
   "id": "13",
   "metadata": {},
   "outputs": [],
   "source": [
    "m, q = scipy.linalg.solve(A, b)"
   ]
  },
  {
   "cell_type": "markdown",
   "id": "14",
   "metadata": {},
   "source": [
    "### Measure performance"
   ]
  },
  {
   "cell_type": "code",
   "execution_count": null,
   "id": "15",
   "metadata": {},
   "outputs": [],
   "source": [
    "x = df[x_labels].to_numpy()\n",
    "y_pred = f(x)\n",
    "y = df[y_label].to_numpy()"
   ]
  },
  {
   "cell_type": "code",
   "execution_count": null,
   "id": "16",
   "metadata": {},
   "outputs": [],
   "source": [
    "fig, ax = plt.subplots()\n",
    "ax.scatter(x, y_pred)\n",
    "ax.scatter(x, y)\n",
    "plt.show()"
   ]
  },
  {
   "cell_type": "code",
   "execution_count": null,
   "id": "17",
   "metadata": {},
   "outputs": [],
   "source": [
    "MSE = ((y - y_pred) ** 2).sum() / len(y)\n",
    "print(MSE)"
   ]
  },
  {
   "cell_type": "code",
   "execution_count": null,
   "id": "18",
   "metadata": {},
   "outputs": [],
   "source": [
    "RMSE = np.sqrt(MSE)\n",
    "print(RMSE)"
   ]
  },
  {
   "cell_type": "markdown",
   "id": "19",
   "metadata": {},
   "source": [
    "## Performance metrics\n",
    "\n",
    "Give $N$ observations and $(\\mathbf{y}_i, \\hat{\\mathbf{y}}_i) \\in \\mathbb{R}^m$ the performance is\n",
    "$$\n",
    "P = \\frac{1}{N} d_m (\\mathbf{y}_i, \\hat{\\mathbf{y}}_i)\n",
    "$$\n",
    "\n",
    "for suitable metrix $d_m: \\mathbb{R}^m \\times \\mathbb{R}^m \\mapsto \\mathbb{R}$\n",
    "\n",
    "### MSE (Mean Squared Error)\n",
    "\n",
    "$$ \n",
    "d_m = \\frac{1}{m} \\sum_{i=1}^{m} \\| \\mathbf{y}_i - \\hat{\\mathbf{y}}_i \\|_2^2\n",
    "$$ \n",
    "\n",
    "**Advantages:**\n",
    "- Differentiable, making it suitable for gradient-based optimization.\n",
    "  \n",
    "**Disadvantages:**\n",
    "- Sensitive to outliers because of the squaring parameter\n",
    "- The unit is changed because of the squaring term\n",
    "\n",
    "\n",
    "### RMSE (Root Mean Squared Error)\n",
    "\n",
    "$$ \n",
    "d_m = \\sqrt{\\frac{1}{m} \\sum_{i=1}^{m} \\| \\mathbf{y}_i - \\hat{\\mathbf{y}}_i \\|_2^2}\n",
    "$$ \n",
    "\n",
    "**Advantages:**\n",
    "- Same unit\n",
    "- Differentiable, making it suitable for gradient-based optimization.\n",
    "  \n",
    "**Disadvantages:**\n",
    "- Sensitive to outliers because of the squaring parameter\n",
    "- Derivative is more complex which might require more flops to compute gradient\n",
    "\n",
    "## MAE \n",
    "\n",
    "$$\n",
    "d_m = \\frac{1}{m} \\sum_{i=1}^{m} \\| \\mathbf{y}_i - \\hat{\\mathbf{y}}_i \\|_1\n",
    "$$ \n",
    "\n",
    "**Advantages:**\n",
    "- Same unit\n",
    "- Less senstitive to outliers\n",
    "  \n",
    "**Disadvantages:**\n",
    "- Not differentiable at zero which makes it challenging for gradient-based optimization methods\n",
    "\n",
    "\n",
    "### Summary\n",
    "\n",
    "- Use MSE if you want to penalize larger errors more heavily and prefer a mathematically simple and computationally efficient loss function.\n",
    "- Use RMSE if you need an error metric on the same scale as your target variable and still want to penalize larger errors, but less severely than MSE.\n",
    "- Use MAE if you prefer a loss function that is robust to outliers, easily interpretable, and treats all errors equally.\n",
    "\n",
    "\n",
    "## Classification\n",
    "\n",
    "Example taken from https://scikit-learn.org/stable/auto_examples/svm/plot_iris_svc.html"
   ]
  },
  {
   "cell_type": "code",
   "execution_count": null,
   "id": "20",
   "metadata": {},
   "outputs": [],
   "source": []
  },
  {
   "cell_type": "code",
   "execution_count": null,
   "id": "21",
   "metadata": {},
   "outputs": [],
   "source": [
    "import matplotlib.pyplot as plt\n",
    "\n",
    "from sklearn import datasets, svm\n",
    "from sklearn.inspection import DecisionBoundaryDisplay\n",
    "\n",
    "\n",
    "# import some data to play with\n",
    "iris = datasets.load_iris()\n",
    "# Take the first two features. We could avoid this by using a two-dim dataset\n",
    "X = iris.data[:, :2]\n",
    "y = iris.target\n",
    "\n",
    "# we create an instance of SVM and fit out data. We do not scale our\n",
    "# data since we want to plot the support vectors\n",
    "C = 1.0  # SVM regularization parameter\n",
    "models = (\n",
    "    svm.SVC(kernel=\"linear\", C=C),\n",
    "    svm.LinearSVC(C=C, max_iter=10000),\n",
    "    svm.SVC(kernel=\"rbf\", gamma=0.7, C=C),\n",
    "    svm.SVC(kernel=\"poly\", degree=3, gamma=\"auto\", C=C),\n",
    ")\n",
    "models = (clf.fit(X, y) for clf in models)\n",
    "\n",
    "# title for the plots\n",
    "titles = (\n",
    "    \"SVC with linear kernel\",\n",
    "    \"LinearSVC (linear kernel)\",\n",
    "    \"SVC with RBF kernel\",\n",
    "    \"SVC with polynomial (degree 3) kernel\",\n",
    ")\n",
    "\n",
    "# Set-up 2x2 grid for plotting.\n",
    "fig, sub = plt.subplots(2, 2)\n",
    "plt.subplots_adjust(wspace=0.4, hspace=0.4)\n",
    "\n",
    "X0, X1 = X[:, 0], X[:, 1]\n",
    "\n",
    "for clf, title, ax in zip(models, titles, sub.flatten()):\n",
    "    disp = DecisionBoundaryDisplay.from_estimator(\n",
    "        clf,\n",
    "        X,\n",
    "        response_method=\"predict\",\n",
    "        cmap=plt.cm.coolwarm,\n",
    "        alpha=0.8,\n",
    "        ax=ax,\n",
    "        xlabel=iris.feature_names[0],\n",
    "        ylabel=iris.feature_names[1],\n",
    "    )\n",
    "    ax.scatter(X0, X1, c=y, cmap=plt.cm.coolwarm, s=20, edgecolors=\"k\")\n",
    "    ax.set_xticks(())\n",
    "    ax.set_yticks(())\n",
    "    ax.set_title(title)\n",
    "\n",
    "plt.show()"
   ]
  },
  {
   "cell_type": "markdown",
   "id": "22",
   "metadata": {},
   "source": [
    "## Machine learning models\n",
    "\n",
    "We assume there is a releation between the input and output data.\n",
    "\n",
    "$$\n",
    "f : x \\mapsto y\n",
    "$$\n",
    "\n",
    "We need a rich enough hypothesis space.\n",
    "\n",
    "\n",
    "What are wrong with e.g polynomials or fourier series (which we know are dense in $C(\\Omega)$)?\n",
    "\n",
    "1D: \n",
    "\n",
    "$$\n",
    "f(x_1) = a_0 + a_1x_1 + a_2x_1^2 + \\cdots\n",
    "$$\n",
    "\n",
    "2D (same degree polynomial):\n",
    "\n",
    "\n",
    "$$\n",
    "f(x_1, x_2) = a_{00} + a_{10}x_1 + a_{01}x_2 + a_{20}x_1^2 + a_{02}x_2^2   + a_{11}x_1x_2 + \\cdots\n",
    "$$\n",
    "\n",
    "\n",
    "Number of parmameters of a degree $n$ polynomial with $k$ variables is\n",
    "\n",
    "$$\n",
    "\\binom{k + n}{n}\n",
    "$$"
   ]
  },
  {
   "cell_type": "code",
   "execution_count": null,
   "id": "23",
   "metadata": {},
   "outputs": [],
   "source": [
    "k = 2\n",
    "n = 2\n",
    "scipy.special.binom(k + n, n)"
   ]
  },
  {
   "cell_type": "code",
   "execution_count": null,
   "id": "24",
   "metadata": {},
   "outputs": [],
   "source": [
    "k = 100\n",
    "n = 100\n",
    "scipy.special.binom(k + n, n)"
   ]
  },
  {
   "cell_type": "markdown",
   "id": "25",
   "metadata": {},
   "source": [
    "For neural networks we also have the [universal approximation theorem](https://www.deep-mind.org/2023/03/26/the-universal-approximation-theorem/#Universal_Approximation_Theorem).\n",
    "For NN we can get away with fewer parameters. See also https://math.uchicago.edu/~may/REU2018/REUPapers/Guilhoto.pdf"
   ]
  },
  {
   "cell_type": "code",
   "execution_count": null,
   "id": "26",
   "metadata": {},
   "outputs": [],
   "source": []
  }
 ],
 "metadata": {
  "kernelspec": {
   "display_name": "Python 3 (ipykernel)",
   "language": "python",
   "name": "python3"
  },
  "language_info": {
   "codemirror_mode": {
    "name": "ipython",
    "version": 3
   },
   "file_extension": ".py",
   "mimetype": "text/x-python",
   "name": "python",
   "nbconvert_exporter": "python",
   "pygments_lexer": "ipython3",
   "version": "3.11.4"
  }
 },
 "nbformat": 4,
 "nbformat_minor": 5
}
